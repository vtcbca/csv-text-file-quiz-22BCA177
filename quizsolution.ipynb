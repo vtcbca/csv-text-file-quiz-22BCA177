{
 "cells": [
  {
   "cell_type": "code",
   "execution_count": 1,
   "id": "44aa06e6",
   "metadata": {},
   "outputs": [],
   "source": [
    "import csv"
   ]
  },
  {
   "cell_type": "code",
   "execution_count": 2,
   "id": "8a45b728",
   "metadata": {},
   "outputs": [],
   "source": [
    "f=open('contact.csv','w',newline='')"
   ]
  },
  {
   "cell_type": "code",
   "execution_count": 3,
   "id": "cc1792bb",
   "metadata": {},
   "outputs": [],
   "source": [
    "w=csv.writer(f)"
   ]
  },
  {
   "cell_type": "code",
   "execution_count": 4,
   "id": "ae3f59e1",
   "metadata": {},
   "outputs": [
    {
     "data": {
      "text/plain": [
       "14"
      ]
     },
     "execution_count": 4,
     "metadata": {},
     "output_type": "execute_result"
    }
   ],
   "source": [
    "header=[\"name\",\"contact\"]\n",
    "w.writerow(header)"
   ]
  },
  {
   "cell_type": "code",
   "execution_count": 5,
   "id": "65cb6476",
   "metadata": {},
   "outputs": [],
   "source": [
    "row=[['yugant',9173521172],['prem',9922456372],['henil',9925444802],['vraj',9876543210],['yash',9123456780]]\n",
    "w.writerows(row)"
   ]
  },
  {
   "cell_type": "code",
   "execution_count": 6,
   "id": "d0ea6365",
   "metadata": {},
   "outputs": [],
   "source": [
    "f.close()"
   ]
  },
  {
   "cell_type": "code",
   "execution_count": 7,
   "id": "5325a945",
   "metadata": {},
   "outputs": [],
   "source": [
    "file=open('contact.csv','r',newline='')"
   ]
  },
  {
   "cell_type": "code",
   "execution_count": 8,
   "id": "2a03f20e",
   "metadata": {},
   "outputs": [],
   "source": [
    "read=csv.reader(file)"
   ]
  },
  {
   "cell_type": "code",
   "execution_count": 9,
   "id": "f9d1a755",
   "metadata": {},
   "outputs": [
    {
     "name": "stdout",
     "output_type": "stream",
     "text": [
      "Enter a person name that you want search contact number:yugant\n",
      "\n",
      "Name:yugant\n",
      "contact:9173521172\n"
     ]
    }
   ],
   "source": [
    "name = input(\"Enter a person name that you want search contact number:\")\n",
    "for r in read:\n",
    "    if r[0]==name:\n",
    "        print(\"\\nName:{}\".format(r[0]))\n",
    "        print(\"contact:{}\".format(r[1]))"
   ]
  },
  {
   "cell_type": "code",
   "execution_count": 10,
   "id": "fb18d782",
   "metadata": {},
   "outputs": [],
   "source": [
    "file.close()"
   ]
  },
  {
   "cell_type": "code",
   "execution_count": null,
   "id": "4404dff1",
   "metadata": {},
   "outputs": [],
   "source": []
  }
 ],
 "metadata": {
  "kernelspec": {
   "display_name": "Python 3 (ipykernel)",
   "language": "python",
   "name": "python3"
  },
  "language_info": {
   "codemirror_mode": {
    "name": "ipython",
    "version": 3
   },
   "file_extension": ".py",
   "mimetype": "text/x-python",
   "name": "python",
   "nbconvert_exporter": "python",
   "pygments_lexer": "ipython3",
   "version": "3.9.6"
  }
 },
 "nbformat": 4,
 "nbformat_minor": 5
}
